{
 "cells": [
  {
   "cell_type": "markdown",
   "id": "fd7cb582-a959-45a1-b6dd-9a5660537ca9",
   "metadata": {},
   "source": [
    "# S&P 100 Case Study"
   ]
  },
  {
   "cell_type": "markdown",
   "id": "dac79074-bd33-47ae-aab3-b2852c98514d",
   "metadata": {},
   "source": [
    "## Description\n",
    "\n",
    "The financial industry uses Python extensively for quantitative analysis, ranging from understanding trading dynamics to risk management systems. This project was part of course Introduction to Python for Finance where I used my python skills to analyze financial data \n",
    "\n",
    "I conducted a Python financial analysis on an S&P 100 dataset by applying my Python skills to filter lists, summarize sector data, plot P/E ratios in histograms, visualize financial trends, and identify outliers."
   ]
  },
  {
   "cell_type": "markdown",
   "id": "81bcf044-f45e-489b-9490-f7ea434d3cb9",
   "metadata": {},
   "source": [
    "## 1.1 Overall Review\n",
    "       Python shell and scripts\n",
    "       Variables and data types\n",
    "       Lists\n",
    "       Arrays\n",
    "       Methods and functions\n",
    "       Indexing and \n",
    "       Matplotlib## 1. Introducing the dataset"
   ]
  },
  {
   "cell_type": "markdown",
   "id": "b3942573-ecb2-4779-8ce1-35882d6d26f2",
   "metadata": {},
   "source": [
    "## 1.2 S&P 100 Companies\n",
    "#### Standard and Poor's S&P 100:\n",
    "     Standard and Poor's S&P 100 is made up of major companies that span multiple industry groups\n",
    "     used to measure stock performance of large companies"
   ]
  },
  {
   "cell_type": "markdown",
   "id": "41171ea6-d928-40a2-8542-0a4cb5cfa304",
   "metadata": {},
   "source": [
    "## 1.2 Introducing the dataset\n",
    "\n",
    "S&P 100 Companies\n",
    "Standard and Poor's S&P 100 is made up of major companies that span multiple industry groups\n",
    "used to measure stock performance of large companies"
   ]
  },
  {
   "cell_type": "code",
   "execution_count": 23,
   "id": "6b493b90-94cb-4c78-8293-655ec5bc2475",
   "metadata": {},
   "outputs": [],
   "source": [
    "#Importing Libraries\n",
    "\n",
    "import pandas as pd\n",
    "import matplotlib.pyplot as plt\n",
    "import numpy as np\n",
    "from numpy import NaN\n",
    "from glob import glob\n",
    "import re"
   ]
  },
  {
   "cell_type": "markdown",
   "id": "16a875f0-ef27-4f0d-b43d-c997d0022893",
   "metadata": {},
   "source": [
    "## 1.3 The Data\n",
    "\n",
    "EPS: earning per share\n"
   ]
  },
  {
   "cell_type": "code",
   "execution_count": 6,
   "id": "38b3e79e-c39f-4d15-b202-73427ea572c2",
   "metadata": {},
   "outputs": [
    {
     "data": {
      "text/html": [
       "<div>\n",
       "<style scoped>\n",
       "    .dataframe tbody tr th:only-of-type {\n",
       "        vertical-align: middle;\n",
       "    }\n",
       "\n",
       "    .dataframe tbody tr th {\n",
       "        vertical-align: top;\n",
       "    }\n",
       "\n",
       "    .dataframe thead th {\n",
       "        text-align: right;\n",
       "    }\n",
       "</style>\n",
       "<table border=\"1\" class=\"dataframe\">\n",
       "  <thead>\n",
       "    <tr style=\"text-align: right;\">\n",
       "      <th></th>\n",
       "      <th>Name</th>\n",
       "      <th>Sector</th>\n",
       "      <th>Price</th>\n",
       "      <th>EPS</th>\n",
       "    </tr>\n",
       "  </thead>\n",
       "  <tbody>\n",
       "    <tr>\n",
       "      <th>0</th>\n",
       "      <td>Apple Inc</td>\n",
       "      <td>Information Technology</td>\n",
       "      <td>170.12</td>\n",
       "      <td>9.20</td>\n",
       "    </tr>\n",
       "    <tr>\n",
       "      <th>1</th>\n",
       "      <td>Abbvie Inc</td>\n",
       "      <td>Health Care</td>\n",
       "      <td>93.29</td>\n",
       "      <td>5.31</td>\n",
       "    </tr>\n",
       "    <tr>\n",
       "      <th>2</th>\n",
       "      <td>Abbott Laboratories</td>\n",
       "      <td>Health Care</td>\n",
       "      <td>55.28</td>\n",
       "      <td>2.41</td>\n",
       "    </tr>\n",
       "    <tr>\n",
       "      <th>3</th>\n",
       "      <td>Accenture Plc</td>\n",
       "      <td>Information Technology</td>\n",
       "      <td>145.30</td>\n",
       "      <td>5.91</td>\n",
       "    </tr>\n",
       "    <tr>\n",
       "      <th>4</th>\n",
       "      <td>Allergan Plc</td>\n",
       "      <td>Health Care</td>\n",
       "      <td>171.81</td>\n",
       "      <td>15.42</td>\n",
       "    </tr>\n",
       "  </tbody>\n",
       "</table>\n",
       "</div>"
      ],
      "text/plain": [
       "                  Name                  Sector   Price    EPS\n",
       "0            Apple Inc  Information Technology  170.12   9.20\n",
       "1           Abbvie Inc             Health Care   93.29   5.31\n",
       "2  Abbott Laboratories             Health Care   55.28   2.41\n",
       "3        Accenture Plc  Information Technology  145.30   5.91\n",
       "4         Allergan Plc             Health Care  171.81  15.42"
      ]
     },
     "execution_count": 6,
     "metadata": {},
     "output_type": "execute_result"
    }
   ],
   "source": [
    "#Reading the Dataset\n",
    "\n",
    "df = pd.read_csv('sector.csv')\n",
    "df.head()"
   ]
  },
  {
   "cell_type": "code",
   "execution_count": 7,
   "id": "ea24d75b-8056-4e73-8c8e-e6e67c4df112",
   "metadata": {},
   "outputs": [
    {
     "data": {
      "text/html": [
       "<div>\n",
       "<style scoped>\n",
       "    .dataframe tbody tr th:only-of-type {\n",
       "        vertical-align: middle;\n",
       "    }\n",
       "\n",
       "    .dataframe tbody tr th {\n",
       "        vertical-align: top;\n",
       "    }\n",
       "\n",
       "    .dataframe thead th {\n",
       "        text-align: right;\n",
       "    }\n",
       "</style>\n",
       "<table border=\"1\" class=\"dataframe\">\n",
       "  <thead>\n",
       "    <tr style=\"text-align: right;\">\n",
       "      <th></th>\n",
       "      <th>Name</th>\n",
       "      <th>Sector</th>\n",
       "      <th>Price</th>\n",
       "      <th>EPS</th>\n",
       "    </tr>\n",
       "  </thead>\n",
       "  <tbody>\n",
       "    <tr>\n",
       "      <th>97</th>\n",
       "      <td>Verizon Communications Inc</td>\n",
       "      <td>Telecommunications</td>\n",
       "      <td>45.85</td>\n",
       "      <td>3.75</td>\n",
       "    </tr>\n",
       "    <tr>\n",
       "      <th>98</th>\n",
       "      <td>Walgreens Boots Alliance</td>\n",
       "      <td>Consumer Staples</td>\n",
       "      <td>70.25</td>\n",
       "      <td>5.10</td>\n",
       "    </tr>\n",
       "    <tr>\n",
       "      <th>99</th>\n",
       "      <td>Wells Fargo &amp; Company</td>\n",
       "      <td>Financials</td>\n",
       "      <td>54.02</td>\n",
       "      <td>4.14</td>\n",
       "    </tr>\n",
       "    <tr>\n",
       "      <th>100</th>\n",
       "      <td>Wal-Mart Stores</td>\n",
       "      <td>Consumer Staples</td>\n",
       "      <td>96.08</td>\n",
       "      <td>4.36</td>\n",
       "    </tr>\n",
       "    <tr>\n",
       "      <th>101</th>\n",
       "      <td>Exxon Mobil Corp</td>\n",
       "      <td>Energy</td>\n",
       "      <td>80.31</td>\n",
       "      <td>3.56</td>\n",
       "    </tr>\n",
       "  </tbody>\n",
       "</table>\n",
       "</div>"
      ],
      "text/plain": [
       "                           Name              Sector  Price   EPS\n",
       "97   Verizon Communications Inc  Telecommunications  45.85  3.75\n",
       "98     Walgreens Boots Alliance    Consumer Staples  70.25  5.10\n",
       "99        Wells Fargo & Company          Financials  54.02  4.14\n",
       "100             Wal-Mart Stores    Consumer Staples  96.08  4.36\n",
       "101            Exxon Mobil Corp              Energy  80.31  3.56"
      ]
     },
     "execution_count": 7,
     "metadata": {},
     "output_type": "execute_result"
    }
   ],
   "source": [
    "df.tail()"
   ]
  },
  {
   "cell_type": "markdown",
   "id": "2ff2d57c-f398-4c53-a486-7027e045a70f",
   "metadata": {},
   "source": [
    "## 1.4 Price to Earnings Ratio\n",
    "\n",
    "Price to earning ratio = Maket Price/Earnings per share \n",
    "\n",
    "The dollar amount one can expect to invest in a company in order to receive one dollar of the company's earnings\n",
    "The ratio for valuing a company that measures its current share price relative to the per-share earnings\n",
    "In general, higher P/E ratio idicates higher growth expectations"
   ]
  },
  {
   "cell_type": "markdown",
   "id": "779b84bb-50ae-44c8-aff0-755820b4f139",
   "metadata": {},
   "source": [
    "## 1.5 Study Objective 1:\n",
    "\n",
    "### Given\n",
    "\n",
    "List of data describing the S&P 100: names, prices, earnigns, sectors\n",
    "\n",
    "### Objective Part I\n",
    "\n",
    "Explore and analyze the S&P 100 data, specifically the P/E ratios of S&P 100 companies\n"
   ]
  },
  {
   "cell_type": "markdown",
   "id": "f9d3d065-1b1b-4f15-992a-bc2bea7a90f7",
   "metadata": {},
   "source": [
    "## 1.6 Methods\n",
    "\n",
    "Step 1: examine the lists\n",
    "\n",
    "Step 2: Convert lists to arrays\n",
    "\n",
    "Step 3: Elementwise array operations"
   ]
  },
  {
   "cell_type": "markdown",
   "id": "a13d5574-5a5f-4e9a-900a-e80101fd330a",
   "metadata": {},
   "source": [
    "## 2.0 Project Exploration\n",
    "\n",
    "### 2.1 Data"
   ]
  },
  {
   "cell_type": "code",
   "execution_count": 10,
   "id": "94bc255b-da1d-4bea-9f75-b6fd931c7558",
   "metadata": {},
   "outputs": [],
   "source": [
    "names = df.Name.values\n",
    "prices = df.Price.values\n",
    "earnings = df.EPS.values\n",
    "sectors = df.Sector.values"
   ]
  },
  {
   "cell_type": "code",
   "execution_count": 24,
   "id": "095763c8-3d65-409f-b60c-da7993f3d3d4",
   "metadata": {},
   "outputs": [
    {
     "data": {
      "text/plain": [
       "numpy.ndarray"
      ]
     },
     "execution_count": 24,
     "metadata": {},
     "output_type": "execute_result"
    }
   ],
   "source": [
    "#Checking data type of the name\n",
    "\n",
    "type(names)"
   ]
  },
  {
   "cell_type": "markdown",
   "id": "e6170d9d-4561-4057-9c66-fb03f339e84d",
   "metadata": {},
   "source": [
    "### 2.2 Lists\n",
    "\n",
    "Stocks in the S&P 100 are selected to represent sector balance and market capitalization. To begin, let's take a look at what data we have associated with S&P companies.\n",
    "\n",
    "Four lists, names, prices, earnings, and sectors, are available in your workspace.\n",
    "\n",
    "Instructions\n",
    "\n",
    "Print the first four items in names.\n",
    "Print the name, price, earning, and sector associated with the last company in the lists."
   ]
  },
  {
   "cell_type": "code",
   "execution_count": 15,
   "id": "061b578f-799d-47e8-a432-5cb07e6ced34",
   "metadata": {},
   "outputs": [
    {
     "name": "stdout",
     "output_type": "stream",
     "text": [
      "['Apple Inc' 'Abbvie Inc' 'Abbott Laboratories' 'Accenture Plc']\n",
      "Exxon Mobil Corp\n",
      "80.31\n",
      "3.56\n",
      "Energy\n"
     ]
    }
   ],
   "source": [
    "# First four items of names\n",
    "print(names[:4])\n",
    "\n",
    "# Print information on last company\n",
    "print(names[-1])\n",
    "print(prices[-1])\n",
    "print(earnings[-1])\n",
    "print(sectors[-1])"
   ]
  },
  {
   "cell_type": "markdown",
   "id": "94b4d9ed-680f-414d-8915-8fc2b31c5ca1",
   "metadata": {},
   "source": [
    "### 2.3 Arrays and NumPy\n",
    "\n",
    "NumPy is a scientific computing package in Python that helps you to work with arrays. Let's use array operations to calculate price to earning ratios of the S&P 100 stocks.\n",
    "\n",
    "The S&P 100 data is available as the lists: prices (stock prices per share) and earnings (earnings per share).\n",
    "\n",
    "Instructions\n",
    "\n",
    "Convert the prices and earnings lists to arrays, prices_array and earnings_array, respectively.\n",
    "Calculate the price to earnings ratio as pe."
   ]
  },
  {
   "cell_type": "code",
   "execution_count": 17,
   "id": "051e5110-b720-4f8b-9bf3-2726cf61818c",
   "metadata": {},
   "outputs": [],
   "source": [
    "# Convert lists to arrays\n",
    "\n",
    "prices_array = np.array(prices)\n",
    "earnings_array = np.array(earnings)"
   ]
  },
  {
   "cell_type": "code",
   "execution_count": 18,
   "id": "2fd270b5-cbef-4da5-a472-03c08fa2e25a",
   "metadata": {},
   "outputs": [
    {
     "data": {
      "text/plain": [
       "array([ 18.49130435,  17.56873823,  22.93775934,  24.58544839,\n",
       "        11.14202335,  23.70517928,  14.8011782 ,  13.42845787,\n",
       "       285.99492386,  17.99233716])"
      ]
     },
     "execution_count": 18,
     "metadata": {},
     "output_type": "execute_result"
    }
   ],
   "source": [
    "# Calculate P/E ratio \n",
    "pe = prices/earnings\n",
    "pe[:10]"
   ]
  },
  {
   "cell_type": "markdown",
   "id": "6f83721d-02d9-4bfc-b876-78d489da2161",
   "metadata": {},
   "source": [
    "## 3.0  A closer look at sectors\n",
    "### 3.1  Case Study Objective II:\n",
    "Given\n",
    "\n",
    "Numpy arrays of data describing the S&P 100: names, prices, earnings, sectors\n",
    "Objective Part II\n",
    "\n",
    "Explore and analyze sector-specific P/E ratios within companies of the S&P 100\n",
    "\n",
    "### 3.2  Methods\n",
    "Step 1: Create a boolean filtering array\n",
    "\n",
    "Step 2: Apply filtering array to subset another array\n",
    "\n",
    "Step 3: Summarize P/E ratios\n",
    "\n",
    "        Calculate the average and standard deviation of these sector-specific P/E ratios\n"
   ]
  },
  {
   "cell_type": "markdown",
   "id": "66e4336d-8584-4ad9-b541-6d28e946703c",
   "metadata": {},
   "source": [
    "## 4.0  Project Explorations\n",
    "### 4.1  Filtering arrays\n",
    "In this lesson, you will focus on two sectors:\n",
    "\n",
    "-Information Technology\n",
    "\n",
    "-Consumer Staples\n",
    "\n",
    "numpy is imported as np and S&P 100 data is stored as arrays: names, sectors, and pe (price to earnings ratio).\n",
    "\n",
    "#### Instructions 1/2\n",
    "\n",
    "Create a boolean array to determine which elements in sectors are 'Information Technology'\n",
    "\n",
    "Use the boolean array to subset names and pe in the Information Technology sector."
   ]
  },
  {
   "cell_type": "code",
   "execution_count": 25,
   "id": "f1eba6ce-12da-4ed6-a43d-b4d4eb679604",
   "metadata": {},
   "outputs": [
    {
     "name": "stdout",
     "output_type": "stream",
     "text": [
      "['Apple Inc' 'Accenture Plc' 'Cisco Systems Inc' 'Facebook Inc'\n",
      " 'Alphabet Class C' 'Alphabet Class A' 'International Business Machines'\n",
      " 'Intel Corp' 'Mastercard Inc' 'Microsoft Corp' 'Oracle Corp'\n",
      " 'Paypal Holdings' 'Qualcomm Inc' 'Texas Instruments' 'Visa Inc']\n",
      "[18.49130435 24.58544839 16.76497696 34.51637765 34.09708738 34.6196853\n",
      " 11.08345534 14.11320755 34.78654292 24.40532544 19.20392157 54.67857143\n",
      " 17.67989418 24.28325123 31.68678161]\n"
     ]
    }
   ],
   "source": [
    "# Create boolean array \n",
    "boolean_array = (sectors == 'Information Technology')\n",
    "\n",
    "# Subset sector-specific data\n",
    "it_names = names[boolean_array]\n",
    "it_pe = pe[boolean_array]\n",
    "\n",
    "# Display sector names\n",
    "print(it_names)\n",
    "print(it_pe)"
   ]
  },
  {
   "cell_type": "markdown",
   "id": "6cd5d78a-558c-469a-9ae5-bc3ae1a385a5",
   "metadata": {},
   "source": [
    "#### Instructions 2/2\n",
    "\n",
    "Create a boolean array to determine which elements in sectors are 'Consumer Staples'.\n",
    "Use the boolean array to subset names and pe in the Consumer Staples sector."
   ]
  },
  {
   "cell_type": "code",
   "execution_count": 26,
   "id": "58a24815-0bed-4d64-898e-b39cd4a1d000",
   "metadata": {},
   "outputs": [
    {
     "name": "stdout",
     "output_type": "stream",
     "text": [
      "['Colgate-Palmolive Company' 'Costco Wholesale' 'CVS Corp'\n",
      " 'Kraft Heinz Co' 'Coca-Cola Company' 'Mondelez Intl Cmn A' 'Altria Group'\n",
      " 'Pepsico Inc' 'Procter & Gamble Company'\n",
      " 'Philip Morris International Inc' 'Walgreens Boots Alliance'\n",
      " 'Wal-Mart Stores']\n",
      "[25.14285714 29.41924399 12.29071804 22.63764045 24.12698413 20.72682927\n",
      " 21.04746835 22.55859375 22.19346734 23.01781737 13.7745098  22.03669725]\n"
     ]
    }
   ],
   "source": [
    "# Create boolean array \n",
    "boolean_array = (sectors == 'Consumer Staples')\n",
    "\n",
    "# Subset sector-specific data\n",
    "cs_names = names[boolean_array]\n",
    "cs_pe = pe[boolean_array]\n",
    "\n",
    "# Display sector names\n",
    "print(cs_names)\n",
    "print(cs_pe)"
   ]
  },
  {
   "cell_type": "markdown",
   "id": "b3e23996-2814-4b09-911e-90dc1097a6f8",
   "metadata": {},
   "source": [
    "### 4.2  Summarizing sector data\n",
    "In this exercise, you will calculate the mean and standard deviation of P/E ratios for Information Technology and Consumer Staples sectors. numpy is imported as np and the it_pe and cs_pe arrays from the previous exercise are available in your workspace.\n",
    "\n",
    "#### Instructions 1/2\n",
    "\n",
    "      Calculate the mean and standard deviation of the P/E ratios (it_pe) for the Industrial Technology sector."
   ]
  },
  {
   "cell_type": "code",
   "execution_count": 27,
   "id": "5a68dabf-f032-4e15-8e4a-d1e2137e4286",
   "metadata": {},
   "outputs": [
    {
     "name": "stdout",
     "output_type": "stream",
     "text": [
      "26.333055420408595\n",
      "10.8661467926753\n"
     ]
    }
   ],
   "source": [
    "# Calculate mean and standard deviation\n",
    "it_pe_mean = np.mean(it_pe)\n",
    "it_pe_std = np.std(it_pe)\n",
    "\n",
    "print(it_pe_mean)\n",
    "print(it_pe_std)"
   ]
  },
  {
   "cell_type": "markdown",
   "id": "86c928e2-a3d0-4ab9-badf-a2ee1b1b7a08",
   "metadata": {},
   "source": [
    "#### Instructions 2/2\n",
    "\n",
    "      Calculate the mean and standard deviation of the P/E ratios (cs_pe) for the Consumer Staples sector."
   ]
  },
  {
   "cell_type": "code",
   "execution_count": 28,
   "id": "79cbc4a6-c3d9-49c1-b9a4-aac475b6fb36",
   "metadata": {},
   "outputs": [
    {
     "name": "stdout",
     "output_type": "stream",
     "text": [
      "21.581068906419564\n",
      "4.412021654267338\n"
     ]
    }
   ],
   "source": [
    "# Calculate mean and standard deviation\n",
    "cs_pe_mean = np.mean(cs_pe)\n",
    "cs_pe_std = np.std(cs_pe)\n",
    "\n",
    "print(cs_pe_mean)\n",
    "print(cs_pe_std)"
   ]
  },
  {
   "cell_type": "markdown",
   "id": "fc0c66cb-9e5a-48b7-97f1-8fce92618d12",
   "metadata": {},
   "source": [
    "### 4.3  Plot P/E ratios\n",
    "Let's take a closer look at the P/E ratios using a scatter plot for each company in these two sectors.\n",
    "\n",
    "The arrays it_pe and cs_pe from the previous exercise are available in your workspace. Also, each company name has been assigned a numeric ID contained in the arrays it_id and cs_id.\n",
    "\n",
    "#### Instructions\n",
    "     Draw a scatter plot of it_pe ratios with red markers and 'IT' label.\n",
    "     On the same plot, add the cs_pe ratios with green markers and 'CS' label.\n",
    "     Add a legend to this plot.\n",
    "     Display the plot."
   ]
  },
  {
   "cell_type": "code",
   "execution_count": 30,
   "id": "8b1fde5a-798a-431d-af51-0d4c41c41541",
   "metadata": {},
   "outputs": [
    {
     "data": {
      "image/png": "[encoded data removed]",
      "text/plain": [
       "<Figure size 432x288 with 1 Axes>"
      ]
     },
     "metadata": {
      "needs_background": "light"
     },
     "output_type": "display_data"
    }
   ],
   "source": [
    "it_id = np.arange(0, 15)\n",
    "cs_id = np.arange(0, 12)\n",
    "\n",
    "# Make a scatterplot\n",
    "plt.scatter(it_id, it_pe, color='red', label='IT')\n",
    "plt.scatter(cs_id, cs_pe, color='green', label='CS')\n",
    "\n",
    "# Add legend\n",
    "plt.legend()\n",
    "\n",
    "# Add labels\n",
    "plt.xlabel('Company ID')\n",
    "plt.ylabel('P/E Ratio')\n",
    "plt.show()\n",
    "\n",
    "#Notice that there is one company in the IT sector with an unusually high P/E ratio"
   ]
  },
  {
   "cell_type": "markdown",
   "id": "5547d065-d5bf-4b58-9e1f-c314bf69fe2b",
   "metadata": {},
   "source": [
    "## 5.0  Visualizating trends\n",
    "### 5.1  Case Study Objective III:\n",
    "\n",
    "#### Objective Part III\n",
    "\n",
    "Investigate the outlier from the scatter plot\n",
    "\n",
    "### 5.2  Methods\n",
    "Step 1: Make a histogram of the P/E ratios\n",
    "\n",
    "Step 2:\n",
    "\n",
    "     Identify the outlier P/E ratio\n",
    "     \n",
    "     Create a boolean array filter to subset this company\n",
    "     \n",
    "     Filter out this company information from the provided datasets"
   ]
  },
  {
   "cell_type": "markdown",
   "id": "19e2756c-ccb6-4ddc-b3a1-ef573fc77a0f",
   "metadata": {},
   "source": [
    "## 6.0  Project Explorations\n",
    "### 6.1  Histogram of P/E ratios\n",
    "To visualize and understand the distribution of the P/E ratios in the IT sector, you can use a histogram.\n",
    "\n",
    "The array it_pe from the previous exercise is available in your workspace.\n",
    "\n",
    "#### Instructions\n",
    "     Selectively import the pyplot module of matplotlib as plt.\n",
    "     Plot a histogram of it_pe with 8 bins.\n",
    "     Add the x-label as 'P/E ratio' and y-label as 'Frequency'.\n",
    "     Display the plot."
   ]
  },
  {
   "cell_type": "code",
   "execution_count": 31,
   "id": "8da72cf9-1d90-4f89-a070-df35061524eb",
   "metadata": {},
   "outputs": [
    {
     "data": {
      "image/png": "[encoded data removed]",
      "text/plain": [
       "<Figure size 432x288 with 1 Axes>"
      ]
     },
     "metadata": {
      "needs_background": "light"
     },
     "output_type": "display_data"
    }
   ],
   "source": [
    "# Plot histogram \n",
    "plt.hist(it_pe, bins=8, ec='black')\n",
    "\n",
    "# Add x-label\n",
    "plt.xlabel('P/E ratio')\n",
    "\n",
    "# Add y-label\n",
    "plt.ylabel('Frequency')\n",
    "\n",
    "# Show plot\n",
    "plt.show()"
   ]
  },
  {
   "cell_type": "markdown",
   "id": "b83faf42-8fee-4ac8-9b1e-096aecc4f999",
   "metadata": {},
   "source": [
    "### 6.2  Identify the outlier\n",
    "Histograms can help you to identify outliers or abnormal data points. Which P/E ratio in this histogram is an example of an outlier?\n",
    "A stock with P/E ratio > 50.\n",
    "\n",
    "### 6.3  Name the outlier\n",
    "You've identified that a company in the Industrial Technology sector has a P/E ratio of greater than 50. Let's identify this company.\n",
    "\n",
    "numpy is imported as np, and arrays it_pe (P/E ratios of Industrial Technology companies) and it_names (names of Industrial Technology companies) are available in your workspace.\n",
    "\n",
    "#### Instructions\n",
    "     Identify the P/E ratio greater than 50 and assign it to outlier_price.\n",
    "     Identify the company with P/E ratio greater than 50 and assign it to outlier_name."
   ]
  },
  {
   "cell_type": "code",
   "execution_count": 32,
   "id": "232b703a-8413-4089-b39d-563bf4b42484",
   "metadata": {},
   "outputs": [
    {
     "name": "stdout",
     "output_type": "stream",
     "text": [
      "In 2017 Paypal Holdings had an abnormally high P/E ratio of 54.68.\n"
     ]
    }
   ],
   "source": [
    "# Identify P/E ratio within it_pe that is > 50\n",
    "outlier_price = it_pe[it_pe > 50]\n",
    "\n",
    "# Identify the company with PE ratio > 50\n",
    "outlier_name = it_names[it_pe == outlier_price]\n",
    "\n",
    "# Display results\n",
    "print(f'In 2017 {outlier_name[0]} had an abnormally high P/E ratio of {round(outlier_price[0], 2)}.')"
   ]
  }
 ],
 "metadata": {
  "kernelspec": {
   "display_name": "Python 3 (ipykernel)",
   "language": "python",
   "name": "python3"
  },
  "language_info": {
   "codemirror_mode": {
    "name": "ipython",
    "version": 3
   },
   "file_extension": ".py",
   "mimetype": "text/x-python",
   "name": "python",
   "nbconvert_exporter": "python",
   "pygments_lexer": "ipython3",
   "version": "3.9.12"
  }
 },
 "nbformat": 4,
 "nbformat_minor": 5
}
